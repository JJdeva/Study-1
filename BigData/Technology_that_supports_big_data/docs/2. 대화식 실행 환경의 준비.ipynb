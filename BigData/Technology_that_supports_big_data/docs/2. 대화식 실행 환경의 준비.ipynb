{
 "cells": [
  {
   "cell_type": "markdown",
   "id": "d919998d",
   "metadata": {},
   "source": [
    "# 1. 대화식 실행 환경의 준비\n",
    "## A. (Version_1)\n",
    "### a. mongodb 연결 및 데이터 확인"
   ]
  },
  {
   "cell_type": "code",
   "execution_count": null,
   "id": "595bbd5a",
   "metadata": {},
   "outputs": [],
   "source": [
    "from pymongo import MongoClient\n",
    "\n",
    "mongodb_host = 'localhost'\n",
    "mongodb_port = '27017'\n",
    "\n",
    "mongo_client = MongoClient(mongodb_host, int(mongodb_port))\n",
    "database = mongo_client.get_database('mydb')\n",
    "collection = database['twitter']\n",
    "\n",
    "result = collection.find()\n",
    "\n",
    "# for i in range(100):\n",
    "#     print(result[i])\n",
    "    \n",
    "# print(*collection.find({'lang':'ko'}), sep='\\n')\n",
    "\n",
    "for tweet in collection.find({'lang':'ko'}):\n",
    "    if 'delete' in tweet:\n",
    "        print(tweet)"
   ]
  },
  {
   "cell_type": "markdown",
   "id": "86571fd9",
   "metadata": {},
   "source": [
    "### b. pandas로 보기 편하게 변환"
   ]
  },
  {
   "cell_type": "code",
   "execution_count": null,
   "id": "4d6d4b73-e0fe-48e6-831e-dd5fb8c360c6",
   "metadata": {},
   "outputs": [],
   "source": [
    "import pandas as pd\n",
    "from pymongo import MongoClient\n",
    "\n",
    "mongodb_host = 'localhost'\n",
    "mongodb_port = '27017'\n",
    "\n",
    "mongo_client = MongoClient(mongodb_host, int(mongodb_port))\n",
    "database = mongo_client.get_database('mydb')\n",
    "collection = database['twitter']\n",
    "\n",
    "def tweets(*args, **kwargs):\n",
    "    for tweet in collection.find(*args, **kwargs):\n",
    "        if 'delete' not in tweet:\n",
    "            # yield를 이용해 함수 외부로 값을 양보함\n",
    "            yield{\n",
    "                'created_at':tweet['created_at'], 'text':tweet['text']\n",
    "            }\n",
    "            \n",
    "tweet = pd.DataFrame(tweets({'lang':'ko'}, limit=10))\n",
    "tweet"
   ]
  },
  {
   "cell_type": "markdown",
   "id": "9c6ebde1-a648-48ce-ac7b-a1b03648e642",
   "metadata": {},
   "source": [
    "## B. Version_2\n",
    "### a. mongodb 연결 및 데이터 확인"
   ]
  },
  {
   "cell_type": "code",
   "execution_count": 5,
   "id": "26f68986-2a8c-4182-a524-593f349dfea5",
   "metadata": {},
   "outputs": [
    {
     "data": {
      "text/plain": [
       "{'_id': ObjectId('61f9157ade1467ca4859aed6'),\n",
       " 'created_at': 'Tue Feb 01 11:11:48 +0000 2022',\n",
       " 'id': 1488470132406235137,\n",
       " 'id_str': '1488470132406235137',\n",
       " 'text': '\"えちに自信ある人いる？★甘えん坊です',\n",
       " 'source': '<a href=\"http://twittbot.net/\" rel=\"nofollow\">twittbot.net</a>',\n",
       " 'truncated': False,\n",
       " 'in_reply_to_status_id': None,\n",
       " 'in_reply_to_status_id_str': None,\n",
       " 'in_reply_to_user_id': None,\n",
       " 'in_reply_to_user_id_str': None,\n",
       " 'in_reply_to_screen_name': None,\n",
       " 'user': {'id': 1327376936012640256,\n",
       "  'id_str': '1327376936012640256',\n",
       "  'name': '宮崎❦せふ募集沖縄',\n",
       "  'screen_name': 'X06V9Kannroxiq8',\n",
       "  'location': '沖縄',\n",
       "  'url': None,\n",
       "  'description': 'さみしがり屋の27歳 sex大好き セフレになってくれる人募集💓😘✨愛人募集犯されたい日もあるの。。こっちのことはなにも気にしないで性欲を吐き出してほしい気分😳',\n",
       "  'translator_type': 'none',\n",
       "  'protected': False,\n",
       "  'verified': False,\n",
       "  'followers_count': 1,\n",
       "  'friends_count': 68,\n",
       "  'listed_count': 0,\n",
       "  'favourites_count': 0,\n",
       "  'statuses_count': 2092,\n",
       "  'created_at': 'Fri Nov 13 22:25:05 +0000 2020',\n",
       "  'utc_offset': None,\n",
       "  'time_zone': None,\n",
       "  'geo_enabled': False,\n",
       "  'lang': None,\n",
       "  'contributors_enabled': False,\n",
       "  'is_translator': False,\n",
       "  'profile_background_color': 'F5F8FA',\n",
       "  'profile_background_image_url': '',\n",
       "  'profile_background_image_url_https': '',\n",
       "  'profile_background_tile': False,\n",
       "  'profile_link_color': '1DA1F2',\n",
       "  'profile_sidebar_border_color': 'C0DEED',\n",
       "  'profile_sidebar_fill_color': 'DDEEF6',\n",
       "  'profile_text_color': '333333',\n",
       "  'profile_use_background_image': True,\n",
       "  'profile_image_url': 'http://pbs.twimg.com/profile_images/1332439885869850624/pyDEwkiL_normal.jpg',\n",
       "  'profile_image_url_https': 'https://pbs.twimg.com/profile_images/1332439885869850624/pyDEwkiL_normal.jpg',\n",
       "  'default_profile': True,\n",
       "  'default_profile_image': False,\n",
       "  'following': None,\n",
       "  'follow_request_sent': None,\n",
       "  'notifications': None,\n",
       "  'withheld_in_countries': []},\n",
       " 'geo': None,\n",
       " 'coordinates': None,\n",
       " 'place': None,\n",
       " 'contributors': None,\n",
       " 'is_quote_status': False,\n",
       " 'quote_count': 0,\n",
       " 'reply_count': 0,\n",
       " 'retweet_count': 0,\n",
       " 'favorite_count': 0,\n",
       " 'entities': {'hashtags': [], 'urls': [], 'user_mentions': [], 'symbols': []},\n",
       " 'favorited': False,\n",
       " 'retweeted': False,\n",
       " 'filter_level': 'low',\n",
       " 'lang': 'ja',\n",
       " 'timestamp_ms': '1643713908660',\n",
       " '_timestamp': '2022-02-01T11:11:54.421205'}"
      ]
     },
     "execution_count": 5,
     "metadata": {},
     "output_type": "execute_result"
    }
   ],
   "source": [
    "import pandas as pd\n",
    "import pymongo\n",
    "\n",
    "# MongoDB에 접속\n",
    "mongo = pymongo.MongoClient()\n",
    "\n",
    "mongo.twitter.sample.find_one()"
   ]
  },
  {
   "cell_type": "markdown",
   "id": "97988ea0-76bc-4c88-a5d7-86c30d767203",
   "metadata": {},
   "source": [
    "### b. pandas로 보기 편하게 변환"
   ]
  },
  {
   "cell_type": "code",
   "execution_count": 7,
   "id": "81d97c29-9639-46c6-836f-92c1c415c917",
   "metadata": {},
   "outputs": [
    {
     "data": {
      "text/html": [
       "<div>\n",
       "<style scoped>\n",
       "    .dataframe tbody tr th:only-of-type {\n",
       "        vertical-align: middle;\n",
       "    }\n",
       "\n",
       "    .dataframe tbody tr th {\n",
       "        vertical-align: top;\n",
       "    }\n",
       "\n",
       "    .dataframe thead th {\n",
       "        text-align: right;\n",
       "    }\n",
       "</style>\n",
       "<table border=\"1\" class=\"dataframe\">\n",
       "  <thead>\n",
       "    <tr style=\"text-align: right;\">\n",
       "      <th></th>\n",
       "      <th>create_at</th>\n",
       "      <th>text</th>\n",
       "    </tr>\n",
       "  </thead>\n",
       "  <tbody>\n",
       "    <tr>\n",
       "      <th>0</th>\n",
       "      <td>Tue Feb 01 11:11:48 +0000 2022</td>\n",
       "      <td>RT @53Demon: It’s time for Morrison to man up ...</td>\n",
       "    </tr>\n",
       "    <tr>\n",
       "      <th>1</th>\n",
       "      <td>Tue Feb 01 11:11:48 +0000 2022</td>\n",
       "      <td>RT @TheRajivAdatia: Mere Bhai @kkundrra we nee...</td>\n",
       "    </tr>\n",
       "  </tbody>\n",
       "</table>\n",
       "</div>"
      ],
      "text/plain": [
       "                        create_at  \\\n",
       "0  Tue Feb 01 11:11:48 +0000 2022   \n",
       "1  Tue Feb 01 11:11:48 +0000 2022   \n",
       "\n",
       "                                                text  \n",
       "0  RT @53Demon: It’s time for Morrison to man up ...  \n",
       "1  RT @TheRajivAdatia: Mere Bhai @kkundrra we nee...  "
      ]
     },
     "execution_count": 7,
     "metadata": {},
     "output_type": "execute_result"
    }
   ],
   "source": [
    "import pandas as pd\n",
    "import pymongo\n",
    "\n",
    "mongo = pymongo.MongoClient()\n",
    "\n",
    "# MongoDB로부터 레코드를 읽어들이는 제네레이터 함수\n",
    "def tweets(*args, **kwargs):\n",
    "    for tweet in mongo.twitter.sample.find(*args, **kwargs):\n",
    "        if 'delete' not in tweet:\n",
    "            # 흥미가 있는 필드만 yield한다.\n",
    "            yield{\n",
    "                'create_at': tweet['created_at'],\n",
    "                'text': tweet['text'],\n",
    "            }\n",
    "\n",
    "# 제네레이터를 사용한 데이터 프레임 작성\n",
    "pd.DataFrame(tweets({'lang': 'en'}, limit=2))"
   ]
  },
  {
   "cell_type": "markdown",
   "id": "faecf4d2",
   "metadata": {},
   "source": [
    "# 2. etc..\n",
    "## A. *args, **kwargs 실험"
   ]
  },
  {
   "cell_type": "code",
   "execution_count": null,
   "id": "ac111cf8",
   "metadata": {},
   "outputs": [],
   "source": [
    "def test(*args, **kwargs):\n",
    "    # args에 tuple 형식으로 들어간다.\n",
    "    print(args)\n",
    "    # kwargs는 dict형식으로 들어간다.\n",
    "    print(kwargs)\n",
    "    \n",
    "test({1:1}, s=10)"
   ]
  }
 ],
 "metadata": {
  "kernelspec": {
   "display_name": "Python 3 (ipykernel)",
   "language": "python",
   "name": "python3"
  },
  "language_info": {
   "codemirror_mode": {
    "name": "ipython",
    "version": 3
   },
   "file_extension": ".py",
   "mimetype": "text/x-python",
   "name": "python",
   "nbconvert_exporter": "python",
   "pygments_lexer": "ipython3",
   "version": "3.7.12"
  }
 },
 "nbformat": 4,
 "nbformat_minor": 5
}