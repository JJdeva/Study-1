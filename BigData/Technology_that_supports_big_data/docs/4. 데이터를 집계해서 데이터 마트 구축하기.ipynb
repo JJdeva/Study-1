{
 "cells": [
  {
   "cell_type": "markdown",
   "id": "2f6952c1-bc74-449a-86e6-413dcda7b217",
   "metadata": {},
   "source": [
    "# 1. 데이터를 집계해서 데이터 마트 구축하기"
   ]
  },
  {
   "cell_type": "code",
   "execution_count": null,
   "id": "3aafb49d-f6f0-456a-89fe-4391d0622e69",
   "metadata": {},
   "outputs": [],
   "source": [
    "# 모든 레코드 수 확인\n",
    "spark.table('twitter_sample_words').count()"
   ]
  },
  {
   "cell_type": "raw",
   "id": "a9d0a0a7-84cd-4d72-9306-71c5fe7309fb",
   "metadata": {},
   "source": [
    "411500"
   ]
  },
  {
   "cell_type": "code",
   "execution_count": null,
   "id": "a28d7328-2f06-4ef3-8af9-8dbc10025783",
   "metadata": {},
   "outputs": [],
   "source": [
    "# 1시간마다 그룹화하여 집계\n",
    "query = '''\n",
    "    -- 선두 13문자 : \"YYYY-MM-DD HH\"\n",
    "SELECT substr(time, 1, 13) time,\n",
    "    word,\n",
    "    count(*) count\n",
    "FROM twitter_sample_words\n",
    "GROUP BY 1, 2\n",
    "'''\n",
    "\n",
    "spark.sql(query).count()"
   ]
  },
  {
   "cell_type": "raw",
   "id": "e4c216c6-4e65-4f0c-a552-1283781935a5",
   "metadata": {},
   "source": [
    "94929"
   ]
  },
  {
   "cell_type": "markdown",
   "id": "dcce4085-4be3-4f44-af2c-e7a9e85d034e",
   "metadata": {},
   "source": [
    "## A. 카디널리티의 삭감"
   ]
  },
  {
   "cell_type": "code",
   "execution_count": null,
   "id": "320725cf-e447-4869-867b-a6df1b98dc36",
   "metadata": {},
   "outputs": [],
   "source": [
    "# 등장 횟수가 적은 단어의 수를 조사한다.\n",
    "query = '''\n",
    "SELECT t.count,\n",
    "       count(*) words\n",
    "FROM (\n",
    "    -- 단어별 카운트\n",
    "    SELECT word,\n",
    "           count(*) count\n",
    "    FROM twitter_sample_words\n",
    "    GROUP BY 1\n",
    ") t\n",
    "GROUP BY 1\n",
    "ORDER BY 1\n",
    "'''\n",
    "\n",
    "spark.sql(query).show(3)"
   ]
  },
  {
   "cell_type": "raw",
   "id": "f3f6dbd1-a8b3-420b-972a-36074cfc37e1",
   "metadata": {},
   "source": [
    "+-----+-----+\n",
    "|count|words|\n",
    "+-----+-----+\n",
    "|    1|69388|\n",
    "|    2|10578|\n",
    "|    3| 4192|\n",
    "+-----+-----+\n",
    "only showing top 3 rows"
   ]
  },
  {
   "cell_type": "code",
   "execution_count": null,
   "id": "4a690a60-2b1e-4ec4-803b-3553dea522be",
   "metadata": {},
   "outputs": [],
   "source": [
    "# 단어를 카테고리로 나누는 디멘전 테이블\n",
    "query = '''\n",
    "SELECT word,\n",
    "       count,\n",
    "       IF(count > 1000, word, concat('COUNT=', count)) category\n",
    "FROM (\n",
    "    SELECT word,\n",
    "           count(*) count\n",
    "    FROM twitter_sample_words\n",
    "    GROUP BY 1\n",
    ") t\n",
    "'''\n",
    "\n",
    "spark.sql(query).show(5)"
   ]
  },
  {
   "cell_type": "raw",
   "id": "7f8179ae-8cea-4590-b019-44619d9879a3",
   "metadata": {},
   "source": [
    "+------------+-----+---------+\n",
    "|        word|count| category|\n",
    "+------------+-----+---------+\n",
    "|       team!|   31| COUNT=31|\n",
    "|       still|  281|COUNT=281|\n",
    "|@wildcardp2e|    2|  COUNT=2|\n",
    "|      outfit|   13| COUNT=13|\n",
    "|      jihoon|    2|  COUNT=2|\n",
    "+------------+-----+---------+\n",
    "only showing top 5 rows"
   ]
  },
  {
   "cell_type": "code",
   "execution_count": null,
   "id": "05f4691c-3f2e-4ddf-af01-efa959255c46",
   "metadata": {},
   "outputs": [],
   "source": [
    "# 일시적인 뷰로 등록\n",
    "spark.sql(query).createOrReplaceTempView('word_category')"
   ]
  },
  {
   "cell_type": "code",
   "execution_count": null,
   "id": "b96210f5-a64c-4da7-96e6-02d49428737b",
   "metadata": {},
   "outputs": [],
   "source": [
    "# 1시간마다 카테고리별로 그룹화하여 집계\n",
    "query = '''\n",
    "SELECT substr(a.time, 1, 13) time,\n",
    "       b.category,\n",
    "       count(*) count\n",
    "FROM twitter_sample_words a\n",
    "    LEFT JOIN word_category b ON a.word = b.word\n",
    "GROUP BY 1, 2\n",
    "'''\n",
    "\n",
    "spark.sql(query).count()"
   ]
  },
  {
   "cell_type": "raw",
   "id": "add46905-ced4-4237-bdd4-83d7fcb6b129",
   "metadata": {},
   "source": [
    "342"
   ]
  },
  {
   "cell_type": "markdown",
   "id": "b756a575-2162-435a-919e-d5ef81559481",
   "metadata": {},
   "source": [
    "## B. CSV 파일의 작성"
   ]
  },
  {
   "cell_type": "markdown",
   "id": "8f2716cc-2d86-4728-9c9e-348cd5884c01",
   "metadata": {},
   "source": [
    "### a. 표준 spark-csv 라이브러리 사용"
   ]
  },
  {
   "cell_type": "code",
   "execution_count": null,
   "id": "39a29f45-cd89-46fe-80be-8f6607947b09",
   "metadata": {},
   "outputs": [],
   "source": [
    "(spark.sql(query)\n",
    "      .coalesce(1) # 출력 파일은 하나로 한다.\n",
    "      .write.format('com.databricks.spark.csv') # CSV형식\n",
    "      .option('header', 'true') # 헤더 있음\n",
    "      .save('csv_output')) # 출력 디렉토리\n",
    "\n",
    "# csv 파일은\n",
    "# ./csv_output 디렉토리에 존재한다."
   ]
  },
  {
   "cell_type": "markdown",
   "id": "28d04062-2f34-43e2-865e-a3df254fbf77",
   "metadata": {},
   "source": [
    "### b. pandas의 데이터 프레임"
   ]
  },
  {
   "cell_type": "code",
   "execution_count": null,
   "id": "15185c2c-e14f-448c-8c3c-7592bc3b645f",
   "metadata": {},
   "outputs": [],
   "source": [
    "# pandas의 데이터 프레임으로 변환\n",
    "result = spark.sql(query).toPandas()\n",
    "# 데이터 프레임 확인. 'time'이 도중에 끊겨 있다.\n",
    "result.head(2)"
   ]
  },
  {
   "cell_type": "raw",
   "id": "a7fd2b24-6245-4a5f-84bc-961f900c950d",
   "metadata": {},
   "source": [
    "            time   category  count\n",
    "0  2022-02-01 20          I   3549\n",
    "1  2022-02-01 20  COUNT=138    414"
   ]
  },
  {
   "cell_type": "code",
   "execution_count": null,
   "id": "a1d2e7a6-1b3e-4af2-9c48-d96c55338bc0",
   "metadata": {},
   "outputs": [],
   "source": [
    "# 표준화된 시간형으로 변환\n",
    "import pandas as pd\n",
    "\n",
    "result['time'] = pd.to_datetime(result['time'])\n",
    "result.head(2)"
   ]
  },
  {
   "cell_type": "raw",
   "id": "d3d281fa-1b95-4e34-a54e-20945d8bf98d",
   "metadata": {},
   "source": [
    "                 time   category  count\n",
    "0 2022-02-01 20:00:00          I   3549\n",
    "1 2022-02-01 20:00:00  COUNT=138    414"
   ]
  },
  {
   "cell_type": "code",
   "execution_count": null,
   "id": "480a0655-2859-490f-8550-0e4c5b287367",
   "metadata": {},
   "outputs": [],
   "source": [
    "# 변경 후의 데이터 프레임을 보관\n",
    "result.to_csv('word_summary.csv', index=False, encoding='utf-8')"
   ]
  }
 ],
 "metadata": {
  "kernelspec": {
   "display_name": "big_data",
   "language": "python",
   "name": "big_data"
  },
  "language_info": {
   "codemirror_mode": {
    "name": "ipython",
    "version": 3
   },
   "file_extension": ".py",
   "mimetype": "text/x-python",
   "name": "python",
   "nbconvert_exporter": "python",
   "pygments_lexer": "ipython3",
   "version": "3.7.12"
  }
 },
 "nbformat": 4,
 "nbformat_minor": 5
}
