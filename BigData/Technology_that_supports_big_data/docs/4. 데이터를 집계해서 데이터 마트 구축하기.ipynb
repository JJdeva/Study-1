{
 "cells": [
  {
   "cell_type": "markdown",
   "id": "5eb4874a",
   "metadata": {},
   "source": [
    "# 1. 데이터를 집계해서 데이터 마트 구축하기"
   ]
  },
  {
   "cell_type": "code",
   "execution_count": null,
   "id": "70a3ea9f",
   "metadata": {},
   "outputs": [],
   "source": [
    "# 모든 레코드 수 확인\n",
    "spark.table('twitter_sample_words').count()"
   ]
  },
  {
   "cell_type": "raw",
   "id": "0877db5c",
   "metadata": {},
   "source": [
    "411500"
   ]
  },
  {
   "cell_type": "code",
   "execution_count": null,
   "id": "d0921f0c",
   "metadata": {},
   "outputs": [],
   "source": [
    "# 1시간마다 그룹화하여 집계\n",
    "query = '''\n",
    "    -- 선두 13문자 : \"YYYY-MM-DD HH\"\n",
    "SELECT substr(time, 1, 13) time,\n",
    "    word,\n",
    "    count(*) count\n",
    "FROM twitter_sample_words\n",
    "GROUP BY 1, 2\n",
    "'''\n",
    "\n",
    "spark.sql(query).count()"
   ]
  },
  {
   "cell_type": "raw",
   "id": "e19ce743",
   "metadata": {},
   "source": [
    "94929"
   ]
  },
  {
   "cell_type": "markdown",
   "id": "77426752",
   "metadata": {},
   "source": [
    "## A. 카디널리티의 삭감"
   ]
  },
  {
   "cell_type": "code",
   "execution_count": null,
   "id": "4153bac2",
   "metadata": {},
   "outputs": [],
   "source": [
    "# 등장 횟수가 적은 단어의 수를 조사한다.\n",
    "query = '''\n",
    "SELECT t.count,\n",
    "       count(*) words\n",
    "FROM (\n",
    "    -- 단어별 카운트\n",
    "    SELECT word,\n",
    "           count(*) count\n",
    "    FROM twitter_sample_words\n",
    "    GROUP BY 1\n",
    ") t\n",
    "GROUP BY 1\n",
    "ORDER BY 1\n",
    "'''\n",
    "\n",
    "spark.sql(query).show(3)"
   ]
  },
  {
   "cell_type": "raw",
   "id": "8b2da7b9",
   "metadata": {},
   "source": [
    "+-----+-----+\n",
    "|count|words|\n",
    "+-----+-----+\n",
    "|    1|69388|\n",
    "|    2|10578|\n",
    "|    3| 4192|\n",
    "+-----+-----+\n",
    "only showing top 3 rows"
   ]
  },
  {
   "cell_type": "code",
   "execution_count": null,
   "id": "be374847",
   "metadata": {},
   "outputs": [],
   "source": [
    "# 단어를 카테고리로 나누는 디멘전 테이블\n",
    "query = '''\n",
    "SELECT word,\n",
    "       count,\n",
    "       IF(count > 1000, word, concat('COUNT=', count)) category\n",
    "FROM (\n",
    "    SELECT word,\n",
    "           count(*) count\n",
    "    FROM twitter_sample_words\n",
    "    GROUP BY 1\n",
    ") t\n",
    "'''\n",
    "\n",
    "spark.sql(query).show(5)"
   ]
  },
  {
   "cell_type": "raw",
   "id": "03e5b8a6",
   "metadata": {},
   "source": [
    "+------------+-----+---------+\n",
    "|        word|count| category|\n",
    "+------------+-----+---------+\n",
    "|       team!|   31| COUNT=31|\n",
    "|       still|  281|COUNT=281|\n",
    "|@wildcardp2e|    2|  COUNT=2|\n",
    "|      outfit|   13| COUNT=13|\n",
    "|      jihoon|    2|  COUNT=2|\n",
    "+------------+-----+---------+\n",
    "only showing top 5 rows"
   ]
  },
  {
   "cell_type": "code",
   "execution_count": null,
   "id": "b739647c",
   "metadata": {},
   "outputs": [],
   "source": [
    "# 일시적인 뷰로 등록\n",
    "spark.sql(query).createOrReplaceTempView('word_category')"
   ]
  },
  {
   "cell_type": "code",
   "execution_count": null,
   "id": "07dc29e1",
   "metadata": {},
   "outputs": [],
   "source": [
    "# 1시간마다 카테고리별로 그룹화하여 집계\n",
    "query = '''\n",
    "SELECT substr(a.time, 1, 13) time,\n",
    "       b.category,\n",
    "       count(*) count\n",
    "FROM twitter_sample_words a\n",
    "    LEFT JOIN word_category b ON a.word = b.word\n",
    "GROUP BY 1, 2\n",
    "'''\n",
    "\n",
    "spark.sql(query).count()"
   ]
  },
  {
   "cell_type": "raw",
   "id": "cd946990",
   "metadata": {},
   "source": [
    "342"
   ]
  },
  {
   "cell_type": "markdown",
   "id": "4707539b",
   "metadata": {},
   "source": [
    "## B. CSV 파일의 작성"
   ]
  },
  {
   "cell_type": "markdown",
   "id": "f9156aca",
   "metadata": {},
   "source": [
    "### a. 표준 spark-csv 라이브러리 사용"
   ]
  },
  {
   "cell_type": "code",
   "execution_count": null,
   "id": "ed52a550",
   "metadata": {},
   "outputs": [],
   "source": [
    "(spark.sql(query)\n",
    "      .coalesce(1) # 출력 파일은 하나로 한다.\n",
    "      .write.format('com.databricks.spark.csv') # CSV형식\n",
    "      .option('header', 'true') # 헤더 있음\n",
    "      .save('csv_output')) # 출력 디렉토리\n",
    "\n",
    "# csv 파일은\n",
    "# ./csv_output 디렉토리에 존재한다."
   ]
  },
  {
   "cell_type": "markdown",
   "id": "72c818b6",
   "metadata": {},
   "source": [
    "### b. pandas의 데이터 프레임"
   ]
  },
  {
   "cell_type": "code",
   "execution_count": null,
   "id": "18bdca7d",
   "metadata": {},
   "outputs": [],
   "source": [
    "# pandas의 데이터 프레임으로 변환\n",
    "result = spark.sql(query).toPandas()\n",
    "# 데이터 프레임 확인. 'time'이 도중에 끊겨 있다.\n",
    "result.head(2)"
   ]
  },
  {
   "cell_type": "raw",
   "id": "e1607fbf",
   "metadata": {},
   "source": [
    "            time   category  count\n",
    "0  2022-02-01 20          I   3549\n",
    "1  2022-02-01 20  COUNT=138    414"
   ]
  },
  {
   "cell_type": "code",
   "execution_count": null,
   "id": "54b60ac7",
   "metadata": {},
   "outputs": [],
   "source": [
    "# 표준화된 시간형으로 변환\n",
    "import pandas as pd\n",
    "\n",
    "result['time'] = pd.to_datetime(result['time'])\n",
    "result.head(2)"
   ]
  },
  {
   "cell_type": "raw",
   "id": "20bd7551",
   "metadata": {},
   "source": [
    "                 time   category  count\n",
    "0 2022-02-01 20:00:00          I   3549\n",
    "1 2022-02-01 20:00:00  COUNT=138    414"
   ]
  },
  {
   "cell_type": "code",
   "execution_count": null,
   "id": "dd69ae23",
   "metadata": {},
   "outputs": [],
   "source": [
    "# 변경 후의 데이터 프레임을 보관\n",
    "result.to_csv('word_summary.csv', index=False, encoding='utf-8')"
   ]
  }
 ],
 "metadata": {
  "jupytext": {
   "formats": "ipynb,auto:light"
  },
  "kernelspec": {
   "display_name": "big_data",
   "language": "python",
   "name": "big_data"
  },
  "language_info": {
   "codemirror_mode": {
    "name": "ipython",
    "version": 3
   },
   "file_extension": ".py",
   "mimetype": "text/x-python",
   "name": "python",
   "nbconvert_exporter": "python",
   "pygments_lexer": "ipython3",
   "version": "3.7.12"
  }
 },
 "nbformat": 4,
 "nbformat_minor": 5
}