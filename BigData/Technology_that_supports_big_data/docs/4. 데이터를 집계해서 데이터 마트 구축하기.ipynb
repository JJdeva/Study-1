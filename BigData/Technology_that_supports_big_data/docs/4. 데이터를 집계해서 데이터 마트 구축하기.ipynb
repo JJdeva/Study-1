{
 "cells": [
  {
   "cell_type": "markdown",
   "id": "c2bb5c74",
   "metadata": {},
   "source": [
    "# 1. 데이터를 집계해서 데이터 마트 구축하기"
   ]
  },
  {
   "cell_type": "code",
   "execution_count": null,
   "id": "b61d4f54",
   "metadata": {},
   "outputs": [],
   "source": [
    "# 모든 레코드 수 확인\n",
    "spark.table('twitter_sample_words').count()"
   ]
  },
  {
   "cell_type": "raw",
   "id": "2854342b",
   "metadata": {},
   "source": [
    "9624949"
   ]
  },
  {
   "cell_type": "code",
   "execution_count": null,
   "id": "e01451ca",
   "metadata": {},
   "outputs": [],
   "source": [
    "# 1시간마다 그룹화하여 집계\n",
    "query = '''\n",
    "    -- 선두 13문자 : \"YYYY-MM-DD HH\"\n",
    "SELECT substr(time, 1, 13) time,\n",
    "    word,\n",
    "    count(*) count\n",
    "FROM twitter_sample_words\n",
    "GROUP BY 1, 2\n",
    "'''\n",
    "\n",
    "spark.sql(query).count()"
   ]
  },
  {
   "cell_type": "raw",
   "id": "632db31f",
   "metadata": {},
   "source": [
    "2023431"
   ]
  },
  {
   "cell_type": "markdown",
   "id": "8bf02115",
   "metadata": {},
   "source": [
    "## A. 카디널리티의 삭감"
   ]
  },
  {
   "cell_type": "code",
   "execution_count": null,
   "id": "a7690022",
   "metadata": {},
   "outputs": [],
   "source": [
    "# 등장 횟수가 적은 단어의 수를 조사한다.\n",
    "query = '''\n",
    "SELECT t.count,\n",
    "       count(*) words\n",
    "FROM (\n",
    "    -- 단어별 카운트\n",
    "    SELECT word,\n",
    "           count(*) count\n",
    "    FROM twitter_sample_words\n",
    "    GROUP BY 1\n",
    ") t\n",
    "GROUP BY 1\n",
    "ORDER BY 1\n",
    "'''\n",
    "\n",
    "spark.sql(query).show(3)"
   ]
  },
  {
   "cell_type": "raw",
   "id": "e4e70ce5",
   "metadata": {
    "lines_to_next_cell": 0
   },
   "source": []
  },
  {
   "cell_type": "code",
   "execution_count": null,
   "id": "9c3a7289",
   "metadata": {
    "lines_to_next_cell": 0,
    "title": "-----+------+"
   },
   "outputs": [],
   "source": [
    "# |count| words|"
   ]
  },
  {
   "cell_type": "code",
   "execution_count": null,
   "id": "1de923ce",
   "metadata": {
    "lines_to_next_cell": 0,
    "title": "-----+------+"
   },
   "outputs": [],
   "source": [
    "# |    1|775110|\n",
    "# |    2|115315|\n",
    "# |    3| 47315|"
   ]
  },
  {
   "cell_type": "code",
   "execution_count": null,
   "id": "48190c10",
   "metadata": {
    "lines_to_next_cell": 0,
    "title": "-----+------+"
   },
   "outputs": [],
   "source": [
    "# only showing top 3 rows"
   ]
  },
  {
   "cell_type": "code",
   "execution_count": null,
   "id": "f946c907",
   "metadata": {},
   "outputs": [],
   "source": [
    "# 단어를 카테고리로 나누는 디멘전 테이블\n",
    "query = '''\n",
    "SELECT word,\n",
    "       count,\n",
    "       IF(count > 1000, word, concat('COUNT=', count)) category\n",
    "FROM (\n",
    "    SELECT word,\n",
    "           count(*) count\n",
    "    FROM twitter_sample_words\n",
    "    GROUP BY 1\n",
    ") t\n",
    "'''\n",
    "\n",
    "spark.sql(query).show(5)"
   ]
  },
  {
   "cell_type": "raw",
   "id": "af66bb1b",
   "metadata": {
    "lines_to_next_cell": 0
   },
   "source": []
  },
  {
   "cell_type": "code",
   "execution_count": null,
   "id": "cbf812d7",
   "metadata": {
    "lines_to_next_cell": 0,
    "title": "-----+-----+---------+"
   },
   "outputs": [],
   "source": [
    "# | word|count| category|"
   ]
  },
  {
   "cell_type": "code",
   "execution_count": null,
   "id": "2df76798",
   "metadata": {
    "lines_to_next_cell": 0,
    "title": "-----+-----+---------+"
   },
   "outputs": [],
   "source": [
    "# |  few| 2028|      few|\n",
    "# | hope| 3073|     hope|\n",
    "# | AWAY|  219|COUNT=219|\n",
    "# |still| 6400|    still|\n",
    "# |those| 3542|    those|"
   ]
  },
  {
   "cell_type": "code",
   "execution_count": null,
   "id": "910636e4",
   "metadata": {
    "lines_to_next_cell": 0,
    "title": "-----+-----+---------+"
   },
   "outputs": [],
   "source": [
    "# only showing top 5 rows"
   ]
  },
  {
   "cell_type": "code",
   "execution_count": null,
   "id": "9684a505",
   "metadata": {},
   "outputs": [],
   "source": [
    "# 일시적인 뷰로 등록\n",
    "spark.sql(query).createOrReplaceTempView('word_category')"
   ]
  },
  {
   "cell_type": "code",
   "execution_count": null,
   "id": "6343c1b8",
   "metadata": {},
   "outputs": [],
   "source": [
    "# 1시간마다 카테고리별로 그룹화하여 집계\n",
    "query = '''\n",
    "SELECT substr(a.time, 1, 13) time,\n",
    "       b.category,\n",
    "       count(*) count\n",
    "FROM twitter_sample_words a\n",
    "    LEFT JOIN word_category b ON a.word = b.word\n",
    "GROUP BY 1, 2\n",
    "'''\n",
    "\n",
    "spark.sql(query).count()"
   ]
  },
  {
   "cell_type": "raw",
   "id": "8c2ee835",
   "metadata": {},
   "source": [
    "27376"
   ]
  },
  {
   "cell_type": "markdown",
   "id": "b2b16e5f",
   "metadata": {},
   "source": [
    "## B. CSV 파일의 작성"
   ]
  },
  {
   "cell_type": "markdown",
   "id": "f61d02ba",
   "metadata": {},
   "source": [
    "### a. 표준 spark-csv 라이브러리 사용"
   ]
  },
  {
   "cell_type": "code",
   "execution_count": null,
   "id": "ecbcc8f9",
   "metadata": {},
   "outputs": [],
   "source": [
    "(spark.sql(query)\n",
    "      .coalesce(1) # 출력 파일은 하나로 한다.\n",
    "      .write.format('com.databricks.spark.csv') # CSV형식\n",
    "      .option('header', 'true') # 헤더 있음\n",
    "      .save('csv_output')) # 출력 디렉토리\n",
    "\n",
    "# csv 파일은\n",
    "# ./csv_output 디렉토리에 존재한다."
   ]
  },
  {
   "cell_type": "markdown",
   "id": "b256e8b3",
   "metadata": {},
   "source": [
    "### b. pandas의 데이터 프레임"
   ]
  },
  {
   "cell_type": "code",
   "execution_count": null,
   "id": "354ab82a",
   "metadata": {},
   "outputs": [],
   "source": [
    "# pandas의 데이터 프레임으로 변환\n",
    "result = spark.sql(query).toPandas()\n",
    "# 데이터 프레임 확인. 'time'이 도중에 끊겨 있다.\n",
    "result.head(2)"
   ]
  },
  {
   "cell_type": "raw",
   "id": "160fc665",
   "metadata": {},
   "source": [
    "            time   category  count\n",
    "0  2022-02-01 20          I   3549\n",
    "1  2022-02-01 20  COUNT=138    414"
   ]
  },
  {
   "cell_type": "code",
   "execution_count": null,
   "id": "f694c552",
   "metadata": {},
   "outputs": [],
   "source": [
    "# 표준화된 시간형으로 변환\n",
    "import pandas as pd\n",
    "\n",
    "result['time'] = pd.to_datetime(result['time'])\n",
    "result.head(2)"
   ]
  },
  {
   "cell_type": "raw",
   "id": "ee31663d",
   "metadata": {},
   "source": [
    "                 time   category  count\n",
    "0 2022-02-01 20:00:00          I   3549\n",
    "1 2022-02-01 20:00:00  COUNT=138    414"
   ]
  },
  {
   "cell_type": "code",
   "execution_count": null,
   "id": "a631f0f4",
   "metadata": {},
   "outputs": [],
   "source": [
    "# 변경 후의 데이터 프레임을 보관\n",
    "result.to_csv('word_summary.csv', index=False, encoding='utf-8')"
   ]
  }
 ],
 "metadata": {
  "jupytext": {
   "encoding": "# -*- coding: utf-8 -*-",
   "formats": "ipynb,py:light"
  },
  "kernelspec": {
   "display_name": "big_data",
   "language": "python",
   "name": "big_data"
  },
  "language_info": {
   "codemirror_mode": {
    "name": "ipython",
    "version": 3
   },
   "file_extension": ".py",
   "mimetype": "text/x-python",
   "name": "python",
   "nbconvert_exporter": "python",
   "pygments_lexer": "ipython3",
   "version": "3.7.12"
  }
 },
 "nbformat": 4,
 "nbformat_minor": 5
}