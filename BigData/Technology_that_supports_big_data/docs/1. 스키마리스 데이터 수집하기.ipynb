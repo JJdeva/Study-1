{
 "cells": [
  {
   "cell_type": "markdown",
   "id": "20a9121b-97e3-43eb-b52c-5893e03794dd",
   "metadata": {},
   "source": [
    "# 1. 스키마리스 데이터 수집하기"
   ]
  },
  {
   "cell_type": "code",
   "execution_count": null,
   "id": "6dbb0588-b387-4f05-a0df-1ba1af1dbf53",
   "metadata": {},
   "outputs": [],
   "source": [
    "import pymongo\n",
    "import requests_oauthlib\n",
    "from api import key\n",
    "import datetime\n",
    "import json\n",
    "from pymongo import MongoClient\n",
    "import tqdm\n",
    "\n",
    "\n",
    "# Twitter Developers 사이트에서 API 키 발행\n",
    "consumer_key = key.twitter_API_Key\n",
    "consumer_secret = key.twitter_API_Key_Secret\n",
    "access_token_key = key.twitter_access_token\n",
    "access_token_secret = key.twitter_access_secret\n",
    "\n",
    "# Twitter 스트리밍 API 실행\n",
    "twitter = requests_oauthlib.OAuth1Session(consumer_key, consumer_secret, access_token_key, access_token_secret)\n",
    "uri = \"https://stream.twitter.com/1.1/statuses/sample.json\"\n",
    "response = twitter.get(uri, stream=True)\n",
    "response.raise_for_status()"
   ]
  },
  {
   "cell_type": "markdown",
   "id": "7a984bea-a8ee-4356-94c8-a1de22b4c56d",
   "metadata": {},
   "source": [
    "### A. version_1"
   ]
  },
  {
   "cell_type": "code",
   "execution_count": null,
   "id": "f2023d93-f715-45f7-ad50-3613b05ec795",
   "metadata": {},
   "outputs": [],
   "source": [
    "MongoDB에서 database와 collection 연결\n",
    "host = 'localhost'\n",
    "port = 27017\n",
    "\n",
    "mongo_client = MongoClient(host=host, port=port)\n",
    "database = mongo_client.get_database('mydb')\n",
    "collection = database.get_collection('twitter')\n",
    "\n",
    "# print(mongo_client.list_database_names())\n",
    "# print(database)\n",
    "# print(collection)\n",
    "\n",
    "\"\"\"\n",
    "샘플링된 트윗을 MongoDB에 보관\n",
    "\n",
    "tqdm은 아래처럼 현재 진행상황을 보여줌\n",
    "    148289tweets [52:30, 50.19tweets/s]\n",
    "\"\"\"\n",
    "for line in tqdm.tqdm(response.iter_lines(), unit='tweets', mininterval=1):\n",
    "    if line:\n",
    "        tweet = json.loads(line)\n",
    "        # print(tweet)\n",
    "        tweet['_timestamp'] = datetime.datetime.utcnow().isoformat()\n",
    "        collection.insert_one(tweet)"
   ]
  },
  {
   "cell_type": "markdown",
   "id": "b52942ea-abf7-4bd9-96d0-f8b53eefae81",
   "metadata": {},
   "source": [
    "### B. version 2"
   ]
  },
  {
   "cell_type": "code",
   "execution_count": null,
   "id": "9ed1dc82-698c-4193-aff8-c86244b0c4d1",
   "metadata": {},
   "outputs": [],
   "source": [
    "# 샘플링된 트윗을 MongoDB에 보관\n",
    "mongo = MongoClient()\n",
    "\n",
    "for line in tqdm.tqdm(response.iter_lines(), unit='tweets', mininterval=1):\n",
    "    if line:\n",
    "        tweet = json.loads(line)\n",
    "        # 데이터 수신 시의 타임 스탬프 추가\n",
    "        tweet['_timestamp'] = datetime.datetime.utcnow().isoformat()\n",
    "        mongo.twitter.sample.insert_one(tweet)"
   ]
  }
 ],
 "metadata": {
  "kernelspec": {
   "display_name": "big_data",
   "language": "python",
   "name": "big_data"
  },
  "language_info": {
   "codemirror_mode": {
    "name": "ipython",
    "version": 3
   },
   "file_extension": ".py",
   "mimetype": "text/x-python",
   "name": "python",
   "nbconvert_exporter": "python",
   "pygments_lexer": "ipython3",
   "version": "3.7.12"
  }
 },
 "nbformat": 4,
 "nbformat_minor": 5
}