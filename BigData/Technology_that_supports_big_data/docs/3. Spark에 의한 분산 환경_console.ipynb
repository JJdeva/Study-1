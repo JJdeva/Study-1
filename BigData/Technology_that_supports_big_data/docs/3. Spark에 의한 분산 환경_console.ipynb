{
 "cells": [
  {
   "cell_type": "markdown",
   "id": "b57f49e3",
   "metadata": {},
   "source": [
    "# Spark에 의한 분산 환경"
   ]
  },
  {
   "cell_type": "code",
   "execution_count": null,
   "id": "4406e08f",
   "metadata": {},
   "outputs": [],
   "source": [
    "pyspark --packages org.mongodb.spark:mongo-spark-connector_2.11:2.2.0"
   ]
  },
  {
   "cell_type": "code",
   "execution_count": null,
   "id": "2862eb03",
   "metadata": {},
   "outputs": [],
   "source": [
    "# Spark세션 정보에 접근하기 위한 변수\n",
    "spark"
   ]
  },
  {
   "cell_type": "markdown",
   "id": "89af3945",
   "metadata": {},
   "source": [
    "### A. MongoDB의 애드 혹 집계"
   ]
  },
  {
   "cell_type": "code",
   "execution_count": null,
   "id": "946ba639",
   "metadata": {},
   "outputs": [],
   "source": [
    "# MongoDB로 부터 데이터가져와서 데이터프레임 형태로 변경\n",
    "df = (spark.read\n",
    "    .format(\"com.mongodb.spark.sql.DefaultSource\")\n",
    "    .option(\"uri\", \"mongodb://localhost/twitter.sample\")\n",
    "    .load())\n",
    "\n",
    "# 데이터프레임을 일시적인 뷰로 등록\n",
    "df.createOrReplaceTempView('tweets')\n",
    "\n",
    "# 언어별 트윗 수의 상위 3건 표시하는 쿼리 작성\n",
    "query = '''\n",
    "SELECT lang, count(*) count\n",
    "FROM tweets \n",
    "WHERE delete IS NULL \n",
    "GROUP BY 1\n",
    "ORDER BY 2 DESC\n",
    "'''\n",
    "\n",
    "# 쿼리 실행\n",
    "spark.sql(query).show(3)"
   ]
  },
  {
   "cell_type": "raw",
   "id": "19d2b220-d7c5-496c-9f88-2fc7f74feccd",
   "metadata": {},
   "source": [
    "+----+-----+\n",
    "|lang|count|\n",
    "+----+-----+\n",
    "|  ja|42322|\n",
    "|  en|41562|\n",
    "| und|12847|\n",
    "+----+-----+\n",
    "only showing top 3 rows"
   ]
  },
  {
   "cell_type": "markdown",
   "id": "cb7b679b",
   "metadata": {},
   "source": [
    "### B. 텍스트 데이터의 가공"
   ]
  },
  {
   "cell_type": "code",
   "execution_count": null,
   "id": "00839040",
   "metadata": {},
   "outputs": [],
   "source": [
    "# 영어 트윗과 글작성 시간 추출\n",
    "en_query = '''\n",
    "SELECT from_unixtime(timestamp_ms / 1000) time,\n",
    "       text\n",
    "FROM tweets\n",
    "WHERE lang='en'\n",
    "'''\n",
    "\n",
    "# en_query를 실행해서 데이터프레임을 만든다.\n",
    "en_tweets=spark.sql(en_query)\n",
    "\n",
    "from pyspark.sql import Row\n",
    "\n",
    "# 트윗을 단어로 분해하는 제네레이터 함수\n",
    "def text_split(row):\n",
    "    for word in row.text.split():\n",
    "        yield Row(time=row.time, word=word)\n",
    "        \n",
    "# '.rdd'로 원시 레코드 참조\n",
    "en_tweets.rdd.take(1)"
   ]
  },
  {
   "cell_type": "raw",
   "id": "89f5b843-b53d-4c23-bb1e-178bbb053ff9",
   "metadata": {},
   "source": [
    "[Row(time='2022-02-01 20:13:20', text='***New In***Vintage Union Jack Flags. https://t.co/C2vB2LnJ9d')]"
   ]
  },
  {
   "cell_type": "code",
   "execution_count": null,
   "id": "e4663275",
   "metadata": {},
   "outputs": [],
   "source": [
    "# flatMap()에 제네레이터 함수 적용\n",
    "en_tweets.rdd.flatMap(text_split).take(2)"
   ]
  },
  {
   "cell_type": "raw",
   "id": "3f4f0989-d25d-4694-83d7-ac31e1e32c75",
   "metadata": {},
   "source": [
    "[Row(time='2022-02-01 20:13:20', word='***New'), Row(time='2022-02-01 20:13:20', word='In***Vintage')]"
   ]
  },
  {
   "cell_type": "code",
   "execution_count": null,
   "id": "a2581a75",
   "metadata": {},
   "outputs": [],
   "source": [
    "# toDF()를 사용해 데이터 프레임으로 변환\n",
    "en_tweets.rdd.flatMap(text_split).toDF().show(2)"
   ]
  },
  {
   "cell_type": "raw",
   "id": "cb927844-36ce-4fcb-82c2-8629f1bb1702",
   "metadata": {},
   "source": [
    "+-------------------+------------+\n",
    "|               time|        word|\n",
    "+-------------------+------------+\n",
    "|2022-02-01 20:13:20|      ***New|\n",
    "|2022-02-01 20:13:20|In***Vintage|\n",
    "+-------------------+------------+\n",
    "only showing top 2 rows"
   ]
  },
  {
   "cell_type": "markdown",
   "id": "e4606729",
   "metadata": {},
   "source": [
    "### C. Spark 프로그램에 있어서의 DAG 실행"
   ]
  },
  {
   "cell_type": "code",
   "execution_count": null,
   "id": "6cc5b9c6",
   "metadata": {},
   "outputs": [],
   "source": [
    "# 분해한 단어로 이루어진 뷰 'words'를 작성\n",
    "words = en_tweets.rdd.flatMap(text_split).toDF()\n",
    "words.createOrReplaceTempView('words')\n",
    "\n",
    "# 단어별 카운트의 상위 3건을 표시\n",
    "word_count_query = '''\n",
    "SELECT word, count(*) count\n",
    "FROM words\n",
    "GROUP BY 1\n",
    "ORDER BY 2 DESC\n",
    "'''\n",
    "\n",
    "spark.sql(query).show(3)"
   ]
  },
  {
   "cell_type": "raw",
   "id": "44d2d9d3-4b68-4fe8-823c-c4220520d8f1",
   "metadata": {},
   "source": [
    "+----+-----+\n",
    "|lang|count|\n",
    "+----+-----+\n",
    "|  ja|43337|\n",
    "|  en|42705|\n",
    "| und|13121|\n",
    "+----+-----+\n",
    "only showing top 3 rows"
   ]
  },
  {
   "cell_type": "code",
   "execution_count": null,
   "id": "c65531fe",
   "metadata": {},
   "outputs": [],
   "source": [
    "# 분해한 단어를 테이블로 보관\n",
    "words.write.saveAsTable('twitter_sample_words')\n",
    "\n",
    "# 초기 설정에서는 'spark-warehouse'에 파일이 저장된다.\n",
    "# ./spark-warehouse"
   ]
  },
  {
   "cell_type": "code",
   "execution_count": null,
   "id": "480706d5",
   "metadata": {},
   "outputs": [],
   "source": []
  }
 ],
 "metadata": {
  "jupytext": {
   "formats": "ipynb,auto:light"
  },
  "kernelspec": {
   "display_name": "big_data",
   "language": "python",
   "name": "big_data"
  },
  "language_info": {
   "codemirror_mode": {
    "name": "ipython",
    "version": 3
   },
   "file_extension": ".py",
   "mimetype": "text/x-python",
   "name": "python",
   "nbconvert_exporter": "python",
   "pygments_lexer": "ipython3",
   "version": "3.7.12"
  }
 },
 "nbformat": 4,
 "nbformat_minor": 5
}