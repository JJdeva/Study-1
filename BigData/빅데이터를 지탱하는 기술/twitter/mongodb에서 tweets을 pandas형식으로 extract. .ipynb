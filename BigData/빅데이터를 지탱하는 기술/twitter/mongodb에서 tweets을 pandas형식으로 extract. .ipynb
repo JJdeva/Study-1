{
 "cells": [
  {
   "cell_type": "markdown",
   "id": "d919998d",
   "metadata": {},
   "source": [
    "# 1. 실습\n",
    "## A. mongodb 연결 및 데이터 확인"
   ]
  },
  {
   "cell_type": "code",
   "execution_count": 28,
   "id": "595bbd5a",
   "metadata": {},
   "outputs": [],
   "source": [
    "from pymongo import MongoClient\n",
    "\n",
    "mongodb_host = 'localhost'\n",
    "mongodb_port = '27017'\n",
    "\n",
    "mongo_client = MongoClient(mongodb_host, int(mongodb_port))\n",
    "database = mongo_client.get_database('mydb')\n",
    "collection = database['twitter']\n",
    "\n",
    "result = collection.find()\n",
    "\n",
    "# for i in range(100):\n",
    "#     print(result[i])\n",
    "    \n",
    "# print(*collection.find({'lang':'ko'}), sep='\\n')\n",
    "\n",
    "for tweet in collection.find({'lang':'ko'}):\n",
    "    if 'delete' in tweet:\n",
    "        print(tweet)"
   ]
  },
  {
   "cell_type": "markdown",
   "id": "86571fd9",
   "metadata": {},
   "source": [
    "## B. pandas로 보기 편하게 변환"
   ]
  },
  {
   "cell_type": "code",
   "execution_count": 22,
   "id": "0c28125f",
   "metadata": {},
   "outputs": [
    {
     "data": {
      "text/html": [
       "<div>\n",
       "<style scoped>\n",
       "    .dataframe tbody tr th:only-of-type {\n",
       "        vertical-align: middle;\n",
       "    }\n",
       "\n",
       "    .dataframe tbody tr th {\n",
       "        vertical-align: top;\n",
       "    }\n",
       "\n",
       "    .dataframe thead th {\n",
       "        text-align: right;\n",
       "    }\n",
       "</style>\n",
       "<table border=\"1\" class=\"dataframe\">\n",
       "  <thead>\n",
       "    <tr style=\"text-align: right;\">\n",
       "      <th></th>\n",
       "      <th>created_at</th>\n",
       "      <th>text</th>\n",
       "    </tr>\n",
       "  </thead>\n",
       "  <tbody>\n",
       "    <tr>\n",
       "      <th>0</th>\n",
       "      <td>Tue Jan 25 20:14:39 +0000 2022</td>\n",
       "      <td>RT @KINGDOM_GFent: [MUJIN👑]\\n\\n10시에 브이앱에서 만나여💖...</td>\n",
       "    </tr>\n",
       "    <tr>\n",
       "      <th>1</th>\n",
       "      <td>Tue Jan 25 20:14:40 +0000 2022</td>\n",
       "      <td>ㅋㅋㅌㅋㅋ아...그건 그렇네\\n6~7시간? 더 자\\n9시간까지 푹자\\n12시간이어도...</td>\n",
       "    </tr>\n",
       "    <tr>\n",
       "      <th>2</th>\n",
       "      <td>Tue Jan 25 20:14:42 +0000 2022</td>\n",
       "      <td>RT @mommyson_eth: 뽑기의 천재 rarity rank #42 https...</td>\n",
       "    </tr>\n",
       "    <tr>\n",
       "      <th>3</th>\n",
       "      <td>Tue Jan 25 20:14:46 +0000 2022</td>\n",
       "      <td>RT @unlimitedvoid8: 오.. 리 https://t.co/KofJxhe...</td>\n",
       "    </tr>\n",
       "    <tr>\n",
       "      <th>4</th>\n",
       "      <td>Tue Jan 25 20:14:48 +0000 2022</td>\n",
       "      <td>@maneul_manul 아당근뼈를 묻겠습니다</td>\n",
       "    </tr>\n",
       "    <tr>\n",
       "      <th>5</th>\n",
       "      <td>Tue Jan 25 20:14:51 +0000 2022</td>\n",
       "      <td>아니 뭐 인벤 뒤적거리다 보니까ㅋㅋㅋㅋㅋㅋㅋㅋ 어 재밋겟다(&amp;lt;항상이렇게시작햇음...</td>\n",
       "    </tr>\n",
       "    <tr>\n",
       "      <th>6</th>\n",
       "      <td>Tue Jan 25 20:14:52 +0000 2022</td>\n",
       "      <td>너무하시다... 저 잠 못 자요..........</td>\n",
       "    </tr>\n",
       "    <tr>\n",
       "      <th>7</th>\n",
       "      <td>Tue Jan 25 20:14:54 +0000 2022</td>\n",
       "      <td>RT @pompomls777: 이준호 웃겼던거\\n송중기 셀카 찍는거 가만 보더니\\n...</td>\n",
       "    </tr>\n",
       "    <tr>\n",
       "      <th>8</th>\n",
       "      <td>Tue Jan 25 20:14:56 +0000 2022</td>\n",
       "      <td>@lovely_airi0319 ? 너가 무궁화였 던 적ㅇ 이있니?????!!!!!!!</td>\n",
       "    </tr>\n",
       "    <tr>\n",
       "      <th>9</th>\n",
       "      <td>Tue Jan 25 20:14:59 +0000 2022</td>\n",
       "      <td>@nompang22 아니 다들 영업하시넹ㅋㅋㅋㅋㅋㅋㅋ 제 지인이 이것만큼 패는맛 타...</td>\n",
       "    </tr>\n",
       "  </tbody>\n",
       "</table>\n",
       "</div>"
      ],
      "text/plain": [
       "                       created_at  \\\n",
       "0  Tue Jan 25 20:14:39 +0000 2022   \n",
       "1  Tue Jan 25 20:14:40 +0000 2022   \n",
       "2  Tue Jan 25 20:14:42 +0000 2022   \n",
       "3  Tue Jan 25 20:14:46 +0000 2022   \n",
       "4  Tue Jan 25 20:14:48 +0000 2022   \n",
       "5  Tue Jan 25 20:14:51 +0000 2022   \n",
       "6  Tue Jan 25 20:14:52 +0000 2022   \n",
       "7  Tue Jan 25 20:14:54 +0000 2022   \n",
       "8  Tue Jan 25 20:14:56 +0000 2022   \n",
       "9  Tue Jan 25 20:14:59 +0000 2022   \n",
       "\n",
       "                                                text  \n",
       "0  RT @KINGDOM_GFent: [MUJIN👑]\\n\\n10시에 브이앱에서 만나여💖...  \n",
       "1  ㅋㅋㅌㅋㅋ아...그건 그렇네\\n6~7시간? 더 자\\n9시간까지 푹자\\n12시간이어도...  \n",
       "2  RT @mommyson_eth: 뽑기의 천재 rarity rank #42 https...  \n",
       "3  RT @unlimitedvoid8: 오.. 리 https://t.co/KofJxhe...  \n",
       "4                          @maneul_manul 아당근뼈를 묻겠습니다  \n",
       "5  아니 뭐 인벤 뒤적거리다 보니까ㅋㅋㅋㅋㅋㅋㅋㅋ 어 재밋겟다(&lt;항상이렇게시작햇음...  \n",
       "6                        너무하시다... 저 잠 못 자요..........  \n",
       "7  RT @pompomls777: 이준호 웃겼던거\\n송중기 셀카 찍는거 가만 보더니\\n...  \n",
       "8    @lovely_airi0319 ? 너가 무궁화였 던 적ㅇ 이있니?????!!!!!!!  \n",
       "9  @nompang22 아니 다들 영업하시넹ㅋㅋㅋㅋㅋㅋㅋ 제 지인이 이것만큼 패는맛 타...  "
      ]
     },
     "execution_count": 22,
     "metadata": {},
     "output_type": "execute_result"
    }
   ],
   "source": [
    "import pandas as pd\n",
    "from pymongo import MongoClient\n",
    "\n",
    "mongodb_host = 'localhost'\n",
    "mongodb_port = '27017'\n",
    "\n",
    "mongo_client = MongoClient(mongodb_host, int(mongodb_port))\n",
    "database = mongo_client.get_database('mydb')\n",
    "collection = database['twitter']\n",
    "\n",
    "def tweets(*args, **kwargs):\n",
    "    for tweet in collection.find(*args, **kwargs):\n",
    "        if 'delete' not in tweet:\n",
    "            # yield를 이용해 함수 외부로 값을 양보함\n",
    "            yield{\n",
    "                'created_at':tweet['created_at'], 'text':tweet['text']\n",
    "            }\n",
    "            \n",
    "tweet = pd.DataFrame(tweets({'lang':'ko'}, limit=10))\n",
    "tweet"
   ]
  },
  {
   "cell_type": "markdown",
   "id": "faecf4d2",
   "metadata": {},
   "source": [
    "# 2. etc..\n",
    "## A. *args, **kwargs 실험"
   ]
  },
  {
   "cell_type": "code",
   "execution_count": 21,
   "id": "ac111cf8",
   "metadata": {},
   "outputs": [
    {
     "name": "stdout",
     "output_type": "stream",
     "text": [
      "({1: 1},)\n",
      "{'s': 10}\n"
     ]
    }
   ],
   "source": [
    "def test(*args, **kwargs):\n",
    "    # args에 tuple 형식으로 들어간다.\n",
    "    print(args)\n",
    "    # kwargs는 dict형식으로 들어간다.\n",
    "    print(kwargs)\n",
    "    \n",
    "test({1:1}, s=10)"
   ]
  }
 ],
 "metadata": {
  "kernelspec": {
   "display_name": "Python 3",
   "language": "python",
   "name": "python3"
  },
  "language_info": {
   "codemirror_mode": {
    "name": "ipython",
    "version": 3
   },
   "file_extension": ".py",
   "mimetype": "text/x-python",
   "name": "python",
   "nbconvert_exporter": "python",
   "pygments_lexer": "ipython3",
   "version": "3.8.3"
  }
 },
 "nbformat": 4,
 "nbformat_minor": 5
}